{
  "nbformat": 4,
  "nbformat_minor": 0,
  "metadata": {
    "accelerator": "GPU",
    "colab": {
      "name": "Copy of Copy of l10c04_nlp_optimizing_the_text_generation_model.ipynb",
      "provenance": [],
      "collapsed_sections": []
    },
    "kernelspec": {
      "display_name": "Python 3",
      "name": "python3"
    }
  },
  "cells": [
    {
      "cell_type": "markdown",
      "metadata": {
        "id": "punL79CN7Ox6"
      },
      "source": [
        "##### Copyright 2020 The TensorFlow Authors."
      ]
    },
    {
      "cell_type": "code",
      "metadata": {
        "cellView": "form",
        "id": "_ckMIh7O7s6D"
      },
      "source": [
        "#@title Licensed under the Apache License, Version 2.0 (the \"License\");\n",
        "# you may not use this file except in compliance with the License.\n",
        "# You may obtain a copy of the License at\n",
        "#\n",
        "# https://www.apache.org/licenses/LICENSE-2.0\n",
        "#\n",
        "# Unless required by applicable law or agreed to in writing, software\n",
        "# distributed under the License is distributed on an \"AS IS\" BASIS,\n",
        "# WITHOUT WARRANTIES OR CONDITIONS OF ANY KIND, either express or implied.\n",
        "# See the License for the specific language governing permissions and\n",
        "# limitations under the License."
      ],
      "execution_count": null,
      "outputs": []
    },
    {
      "cell_type": "markdown",
      "metadata": {
        "id": "Ph5eir3Pf-3z"
      },
      "source": [
        "# Optimizing the Text Generation Model"
      ]
    },
    {
      "cell_type": "markdown",
      "metadata": {
        "id": "S5Uhzt6vVIB2"
      },
      "source": [
        "<table class=\"tfo-notebook-buttons\" align=\"left\">\n",
        "  <td>\n",
        "    <a target=\"_blank\" href=\"https://colab.research.google.com/github/tensorflow/examples/blob/master/courses/udacity_intro_to_tensorflow_for_deep_learning/l10c04_nlp_optimizing_the_text_generation_model.ipynb\"><img src=\"https://www.tensorflow.org/images/colab_logo_32px.png\" />Run in Google Colab</a>\n",
        "  </td>\n",
        "  <td>\n",
        "    <a target=\"_blank\" href=\"https://github.com/tensorflow/examples/blob/master/courses/udacity_intro_to_tensorflow_for_deep_learning/l10c04_nlp_optimizing_the_text_generation_model.ipynb\"><img src=\"https://www.tensorflow.org/images/GitHub-Mark-32px.png\" />View source on GitHub</a>\n",
        "  </td>\n",
        "</table>"
      ]
    },
    {
      "cell_type": "markdown",
      "metadata": {
        "id": "dCxhW3mtLmfb"
      },
      "source": [
        "You've already done some amazing work with generating new songs, but so far we've seen some issues with repetition and a fair amount of incoherence. By using more data and further tweaking the model, you'll be able to get improved results. We'll once again use the [Kaggle Song Lyrics Dataset](https://www.kaggle.com/mousehead/songlyrics) here."
      ]
    },
    {
      "cell_type": "markdown",
      "metadata": {
        "id": "4aHK2CYygXom"
      },
      "source": [
        "## Import TensorFlow and related functions"
      ]
    },
    {
      "cell_type": "code",
      "metadata": {
        "id": "2LmLTREBf5ng"
      },
      "source": [
        "import tensorflow as tf\n",
        "\n",
        "from tensorflow.keras.preprocessing.text import Tokenizer\n",
        "from tensorflow.keras.preprocessing.sequence import pad_sequences\n",
        "\n",
        "# Other imports for processing data\n",
        "import string\n",
        "import numpy as np\n",
        "import pandas as pd"
      ],
      "execution_count": null,
      "outputs": []
    },
    {
      "cell_type": "markdown",
      "metadata": {
        "id": "GmLTO_dpgge9"
      },
      "source": [
        "## Get the Dataset\n",
        "\n",
        "As noted above, we'll utilize the [Song Lyrics dataset](https://www.kaggle.com/mousehead/songlyrics) on Kaggle again."
      ]
    },
    {
      "cell_type": "code",
      "metadata": {
        "id": "4Bf5FVHfganK",
        "colab": {
          "base_uri": "https://localhost:8080/"
        },
        "outputId": "fdb70443-bfe6-4118-e7e5-90907817d07d"
      },
      "source": [
        "!wget --no-check-certificate \\\n",
        "    https://drive.google.com/uc?id=1LiJFZd41ofrWoBtW-pMYsfz1w8Ny0Bj8 \\\n",
        "    -O /tmp/songdata.csv"
      ],
      "execution_count": null,
      "outputs": [
        {
          "output_type": "stream",
          "text": [
            "--2021-02-20 20:54:38--  https://drive.google.com/uc?id=1LiJFZd41ofrWoBtW-pMYsfz1w8Ny0Bj8\n",
            "Resolving drive.google.com (drive.google.com)... 172.217.2.110, 2607:f8b0:4004:80a::200e\n",
            "Connecting to drive.google.com (drive.google.com)|172.217.2.110|:443... connected.\n",
            "HTTP request sent, awaiting response... 302 Moved Temporarily\n",
            "Location: https://doc-04-ak-docs.googleusercontent.com/docs/securesc/ha0ro937gcuc7l7deffksulhg5h7mbp1/1he0v91rtpv241jkbo4iqmi4eob4pinj/1613854425000/11118900490791463723/*/1LiJFZd41ofrWoBtW-pMYsfz1w8Ny0Bj8 [following]\n",
            "Warning: wildcards not supported in HTTP.\n",
            "--2021-02-20 20:54:41--  https://doc-04-ak-docs.googleusercontent.com/docs/securesc/ha0ro937gcuc7l7deffksulhg5h7mbp1/1he0v91rtpv241jkbo4iqmi4eob4pinj/1613854425000/11118900490791463723/*/1LiJFZd41ofrWoBtW-pMYsfz1w8Ny0Bj8\n",
            "Resolving doc-04-ak-docs.googleusercontent.com (doc-04-ak-docs.googleusercontent.com)... 172.217.7.129, 2607:f8b0:4004:805::2001\n",
            "Connecting to doc-04-ak-docs.googleusercontent.com (doc-04-ak-docs.googleusercontent.com)|172.217.7.129|:443... connected.\n",
            "HTTP request sent, awaiting response... 200 OK\n",
            "Length: unspecified [text/csv]\n",
            "Saving to: ‘/tmp/songdata.csv’\n",
            "\n",
            "/tmp/songdata.csv       [   <=>              ]  69.08M   128MB/s    in 0.5s    \n",
            "\n",
            "2021-02-20 20:54:42 (128 MB/s) - ‘/tmp/songdata.csv’ saved [72436445]\n",
            "\n"
          ],
          "name": "stdout"
        }
      ]
    },
    {
      "cell_type": "markdown",
      "metadata": {
        "id": "Jz9x-7dWihxx"
      },
      "source": [
        "## 250 Songs\n",
        "\n",
        "Now we've seen a model trained on just a small sample of songs, and how this often leads to repetition as you get further along in trying to generate new text. Let's switch to using the 250 songs instead, and see if our output improves. This will actually be nearly 10K lines of lyrics, which should be sufficient.\n",
        "\n",
        "Note that we won't use the full dataset here as it will take up quite a bit of RAM and processing time, but you're welcome to try doing so on your own later. If interested, you'll likely want to use only some of the more common words for the Tokenizer, which will help shrink processing time and memory needed (or else you'd have an output array hundreds of thousands of words long)."
      ]
    },
    {
      "cell_type": "markdown",
      "metadata": {
        "id": "nWbMN_19jfRT"
      },
      "source": [
        "### Preprocessing"
      ]
    },
    {
      "cell_type": "code",
      "metadata": {
        "id": "LRmPPJegovBe"
      },
      "source": [
        "def tokenize_corpus(corpus, num_words=-1):\n",
        "  # Fit a Tokenizer on the corpus\n",
        "  if num_words > -1:\n",
        "    tokenizer = Tokenizer(num_words=num_words)\n",
        "  else:\n",
        "    tokenizer = Tokenizer()\n",
        "  tokenizer.fit_on_texts(corpus)\n",
        "  return tokenizer\n",
        "\n",
        "def create_lyrics_corpus(dataset, field):\n",
        "  # Remove all other punctuation\n",
        "  dataset[field] = dataset[field].str.replace('[{}]'.format(string.punctuation), '')\n",
        "  # Make it lowercase\n",
        "  dataset[field] = dataset[field].str.lower()\n",
        "  # Make it one long string to split by line\n",
        "  lyrics = dataset[field].str.cat()\n",
        "  corpus = lyrics.split('\\n')\n",
        "  # Remove any trailing whitespace\n",
        "  for l in range(len(corpus)):\n",
        "    corpus[l] = corpus[l].rstrip()\n",
        "  # Remove any empty lines\n",
        "  corpus = [l for l in corpus if l != '']\n",
        "\n",
        "  return corpus"
      ],
      "execution_count": null,
      "outputs": []
    },
    {
      "cell_type": "code",
      "metadata": {
        "id": "kIGedF3XjHj4",
        "colab": {
          "base_uri": "https://localhost:8080/"
        },
        "outputId": "51432735-6081-48b5-86bc-b418e7d4addd"
      },
      "source": [
        "def tokenize_corpus(corpus, num_words=-1):\n",
        "  # Fit a Tokenizer on the corpus\n",
        "  if num_words > -1:\n",
        "    tokenizer = Tokenizer(num_words=num_words)\n",
        "  else:\n",
        "    tokenizer = Tokenizer()\n",
        "  tokenizer.fit_on_texts(corpus)\n",
        "  return tokenizer\n",
        "\n",
        "# Read the dataset from csv - this time with 250 songs\n",
        "dataset = pd.read_csv('/tmp/songdata.csv', dtype=str)[:250]\n",
        "# Create the corpus using the 'text' column containing lyrics\n",
        "corpus = create_lyrics_corpus(dataset, 'text')\n",
        "# Tokenize the corpus\n",
        "tokenizer = tokenize_corpus(corpus, num_words=2000)\n",
        "total_words = tokenizer.num_words\n",
        "\n",
        "# There should be a lot more words now\n",
        "print(total_words)"
      ],
      "execution_count": null,
      "outputs": [
        {
          "output_type": "stream",
          "text": [
            "2000\n"
          ],
          "name": "stdout"
        }
      ]
    },
    {
      "cell_type": "markdown",
      "metadata": {
        "id": "quoDmw_FkNBA"
      },
      "source": [
        "### Create Sequences and Labels"
      ]
    },
    {
      "cell_type": "code",
      "metadata": {
        "id": "kkLAf3HmkPSo"
      },
      "source": [
        "sequences = []\n",
        "for line in corpus:\n",
        "\ttoken_list = tokenizer.texts_to_sequences([line])[0]\n",
        "\tfor i in range(1, len(token_list)):\n",
        "\t\tn_gram_sequence = token_list[:i+1]\n",
        "\t\tsequences.append(n_gram_sequence)\n",
        "\n",
        "# Pad sequences for equal input length \n",
        "max_sequence_len = max([len(seq) for seq in sequences])\n",
        "sequences = np.array(pad_sequences(sequences, maxlen=max_sequence_len, padding='pre'))\n",
        "\n",
        "# Split sequences between the \"input\" sequence and \"output\" predicted word\n",
        "input_sequences, labels = sequences[:,:-1], sequences[:,-1]\n",
        "# One-hot encode the labels\n",
        "one_hot_labels = tf.keras.utils.to_categorical(labels, num_classes=total_words)"
      ],
      "execution_count": null,
      "outputs": []
    },
    {
      "cell_type": "markdown",
      "metadata": {
        "id": "cECbqT-blMk-"
      },
      "source": [
        "### Train a (Better) Text Generation Model\n",
        "\n",
        "With more data, we'll cut off after 100 epochs to avoid keeping you here all day. You'll also want to change your runtime type to GPU if you haven't already (you'll need to re-run the above cells if you change runtimes)."
      ]
    },
    {
      "cell_type": "code",
      "metadata": {
        "id": "7nHOp6uWlP_P",
        "colab": {
          "base_uri": "https://localhost:8080/"
        },
        "outputId": "340fdb2e-3a7e-41d0-f96d-221f7e32873e"
      },
      "source": [
        "from tensorflow.keras.models import Sequential\n",
        "from tensorflow.keras.layers import Embedding, LSTM, Dense, Bidirectional\n",
        "\n",
        "model = Sequential()\n",
        "model.add(Embedding(total_words, 64, input_length=max_sequence_len-1))\n",
        "model.add(Bidirectional(LSTM(20)))\n",
        "model.add(Dense(total_words, activation='softmax'))\n",
        "model.compile(loss='categorical_crossentropy', optimizer='adam', metrics=['accuracy'])\n",
        "history = model.fit(input_sequences, one_hot_labels, epochs=100, verbose=1)"
      ],
      "execution_count": null,
      "outputs": [
        {
          "output_type": "stream",
          "text": [
            "Epoch 1/100\n",
            "1480/1480 [==============================] - 20s 7ms/step - loss: 6.2343 - accuracy: 0.0438\n",
            "Epoch 2/100\n",
            "1480/1480 [==============================] - 11s 8ms/step - loss: 5.7028 - accuracy: 0.0505\n",
            "Epoch 3/100\n",
            "1480/1480 [==============================] - 11s 8ms/step - loss: 5.5007 - accuracy: 0.0636\n",
            "Epoch 4/100\n",
            "1480/1480 [==============================] - 11s 8ms/step - loss: 5.3169 - accuracy: 0.0898\n",
            "Epoch 5/100\n",
            "1480/1480 [==============================] - 11s 8ms/step - loss: 5.1508 - accuracy: 0.1138\n",
            "Epoch 6/100\n",
            "1480/1480 [==============================] - 11s 7ms/step - loss: 5.0054 - accuracy: 0.1301\n",
            "Epoch 7/100\n",
            "1480/1480 [==============================] - 11s 8ms/step - loss: 4.8478 - accuracy: 0.1418\n",
            "Epoch 8/100\n",
            "1480/1480 [==============================] - 11s 8ms/step - loss: 4.6719 - accuracy: 0.1608\n",
            "Epoch 9/100\n",
            "1480/1480 [==============================] - 11s 8ms/step - loss: 4.5291 - accuracy: 0.1766\n",
            "Epoch 10/100\n",
            "1480/1480 [==============================] - 12s 8ms/step - loss: 4.3882 - accuracy: 0.1926\n",
            "Epoch 11/100\n",
            "1480/1480 [==============================] - 11s 8ms/step - loss: 4.2610 - accuracy: 0.2080\n",
            "Epoch 12/100\n",
            "1480/1480 [==============================] - 11s 8ms/step - loss: 4.1482 - accuracy: 0.2202\n",
            "Epoch 13/100\n",
            "1480/1480 [==============================] - 11s 8ms/step - loss: 4.0349 - accuracy: 0.2350\n",
            "Epoch 14/100\n",
            "1480/1480 [==============================] - 11s 8ms/step - loss: 3.9496 - accuracy: 0.2443\n",
            "Epoch 15/100\n",
            "1480/1480 [==============================] - 12s 8ms/step - loss: 3.8848 - accuracy: 0.2514\n",
            "Epoch 16/100\n",
            "1480/1480 [==============================] - 11s 8ms/step - loss: 3.7979 - accuracy: 0.2625\n",
            "Epoch 17/100\n",
            "1480/1480 [==============================] - 11s 8ms/step - loss: 3.7335 - accuracy: 0.2724\n",
            "Epoch 18/100\n",
            "1480/1480 [==============================] - 12s 8ms/step - loss: 3.6885 - accuracy: 0.2763\n",
            "Epoch 19/100\n",
            "1480/1480 [==============================] - 11s 8ms/step - loss: 3.6267 - accuracy: 0.2879\n",
            "Epoch 20/100\n",
            "1480/1480 [==============================] - 11s 8ms/step - loss: 3.5706 - accuracy: 0.2965\n",
            "Epoch 21/100\n",
            "1480/1480 [==============================] - 11s 8ms/step - loss: 3.5153 - accuracy: 0.3028\n",
            "Epoch 22/100\n",
            "1480/1480 [==============================] - 11s 8ms/step - loss: 3.4682 - accuracy: 0.3079\n",
            "Epoch 23/100\n",
            "1480/1480 [==============================] - 12s 8ms/step - loss: 3.4209 - accuracy: 0.3173\n",
            "Epoch 24/100\n",
            "1480/1480 [==============================] - 12s 8ms/step - loss: 3.3874 - accuracy: 0.3242\n",
            "Epoch 25/100\n",
            "1480/1480 [==============================] - 11s 8ms/step - loss: 3.3263 - accuracy: 0.3312\n",
            "Epoch 26/100\n",
            "1480/1480 [==============================] - 11s 8ms/step - loss: 3.3125 - accuracy: 0.3324\n",
            "Epoch 27/100\n",
            "1480/1480 [==============================] - 11s 8ms/step - loss: 3.2663 - accuracy: 0.3402\n",
            "Epoch 28/100\n",
            "1480/1480 [==============================] - 11s 8ms/step - loss: 3.2238 - accuracy: 0.3445\n",
            "Epoch 29/100\n",
            "1480/1480 [==============================] - 11s 8ms/step - loss: 3.2064 - accuracy: 0.3468\n",
            "Epoch 30/100\n",
            "1480/1480 [==============================] - 11s 8ms/step - loss: 3.1653 - accuracy: 0.3525\n",
            "Epoch 31/100\n",
            "1480/1480 [==============================] - 11s 8ms/step - loss: 3.1198 - accuracy: 0.3588\n",
            "Epoch 32/100\n",
            "1480/1480 [==============================] - 11s 8ms/step - loss: 3.1176 - accuracy: 0.3613\n",
            "Epoch 33/100\n",
            "1480/1480 [==============================] - 11s 7ms/step - loss: 3.0786 - accuracy: 0.3657\n",
            "Epoch 34/100\n",
            "1480/1480 [==============================] - 11s 8ms/step - loss: 3.0628 - accuracy: 0.3691\n",
            "Epoch 35/100\n",
            "1480/1480 [==============================] - 12s 8ms/step - loss: 3.0205 - accuracy: 0.3759\n",
            "Epoch 36/100\n",
            "1480/1480 [==============================] - 11s 8ms/step - loss: 3.0052 - accuracy: 0.3824\n",
            "Epoch 37/100\n",
            "1480/1480 [==============================] - 11s 7ms/step - loss: 2.9727 - accuracy: 0.3857\n",
            "Epoch 38/100\n",
            "1480/1480 [==============================] - 11s 8ms/step - loss: 2.9542 - accuracy: 0.3889\n",
            "Epoch 39/100\n",
            "1480/1480 [==============================] - 11s 7ms/step - loss: 2.9214 - accuracy: 0.3964\n",
            "Epoch 40/100\n",
            "1480/1480 [==============================] - 11s 7ms/step - loss: 2.9085 - accuracy: 0.3965\n",
            "Epoch 41/100\n",
            "1480/1480 [==============================] - 11s 7ms/step - loss: 2.8875 - accuracy: 0.4012\n",
            "Epoch 42/100\n",
            "1480/1480 [==============================] - 11s 7ms/step - loss: 2.8569 - accuracy: 0.4053\n",
            "Epoch 43/100\n",
            "1480/1480 [==============================] - 11s 7ms/step - loss: 2.8492 - accuracy: 0.4095\n",
            "Epoch 44/100\n",
            "1480/1480 [==============================] - 11s 7ms/step - loss: 2.8188 - accuracy: 0.4094\n",
            "Epoch 45/100\n",
            "1480/1480 [==============================] - 12s 8ms/step - loss: 2.7961 - accuracy: 0.4166\n",
            "Epoch 46/100\n",
            "1480/1480 [==============================] - 12s 8ms/step - loss: 2.8006 - accuracy: 0.4156\n",
            "Epoch 47/100\n",
            "1480/1480 [==============================] - 11s 7ms/step - loss: 2.7829 - accuracy: 0.4187\n",
            "Epoch 48/100\n",
            "1480/1480 [==============================] - 11s 7ms/step - loss: 2.7648 - accuracy: 0.4193\n",
            "Epoch 49/100\n",
            "1480/1480 [==============================] - 11s 7ms/step - loss: 2.7485 - accuracy: 0.4247\n",
            "Epoch 50/100\n",
            "1480/1480 [==============================] - 11s 7ms/step - loss: 2.7352 - accuracy: 0.4259\n",
            "Epoch 51/100\n",
            "1480/1480 [==============================] - 11s 8ms/step - loss: 2.7055 - accuracy: 0.4296\n",
            "Epoch 52/100\n",
            "1480/1480 [==============================] - 11s 7ms/step - loss: 2.7146 - accuracy: 0.4260\n",
            "Epoch 53/100\n",
            "1480/1480 [==============================] - 11s 7ms/step - loss: 2.6745 - accuracy: 0.4342\n",
            "Epoch 54/100\n",
            "1480/1480 [==============================] - 11s 7ms/step - loss: 2.6754 - accuracy: 0.4295\n",
            "Epoch 55/100\n",
            "1480/1480 [==============================] - 11s 7ms/step - loss: 2.6563 - accuracy: 0.4379\n",
            "Epoch 56/100\n",
            "1480/1480 [==============================] - 11s 8ms/step - loss: 2.6225 - accuracy: 0.4466\n",
            "Epoch 57/100\n",
            "1480/1480 [==============================] - 11s 7ms/step - loss: 2.6302 - accuracy: 0.4452\n",
            "Epoch 58/100\n",
            "1480/1480 [==============================] - 11s 8ms/step - loss: 2.6143 - accuracy: 0.4432\n",
            "Epoch 59/100\n",
            "1480/1480 [==============================] - 11s 7ms/step - loss: 2.5950 - accuracy: 0.4504\n",
            "Epoch 60/100\n",
            "1480/1480 [==============================] - 11s 7ms/step - loss: 2.6007 - accuracy: 0.4482\n",
            "Epoch 61/100\n",
            "1480/1480 [==============================] - 11s 8ms/step - loss: 2.5799 - accuracy: 0.4514\n",
            "Epoch 62/100\n",
            "1480/1480 [==============================] - 11s 7ms/step - loss: 2.5685 - accuracy: 0.4540\n",
            "Epoch 63/100\n",
            "1480/1480 [==============================] - 11s 7ms/step - loss: 2.5474 - accuracy: 0.4563\n",
            "Epoch 64/100\n",
            "1480/1480 [==============================] - 11s 7ms/step - loss: 2.5323 - accuracy: 0.4625\n",
            "Epoch 65/100\n",
            "1480/1480 [==============================] - 11s 7ms/step - loss: 2.5258 - accuracy: 0.4634\n",
            "Epoch 66/100\n",
            "1480/1480 [==============================] - 11s 8ms/step - loss: 2.5106 - accuracy: 0.4650\n",
            "Epoch 67/100\n",
            "1480/1480 [==============================] - 11s 7ms/step - loss: 2.5222 - accuracy: 0.4622\n",
            "Epoch 68/100\n",
            "1480/1480 [==============================] - 11s 7ms/step - loss: 2.4879 - accuracy: 0.4674\n",
            "Epoch 69/100\n",
            "1480/1480 [==============================] - 11s 7ms/step - loss: 2.4850 - accuracy: 0.4684\n",
            "Epoch 70/100\n",
            "1480/1480 [==============================] - 11s 7ms/step - loss: 2.4987 - accuracy: 0.4671\n",
            "Epoch 71/100\n",
            "1480/1480 [==============================] - 11s 7ms/step - loss: 2.4783 - accuracy: 0.4643\n",
            "Epoch 72/100\n",
            "1480/1480 [==============================] - 11s 8ms/step - loss: 2.4778 - accuracy: 0.4675\n",
            "Epoch 73/100\n",
            "1480/1480 [==============================] - 12s 8ms/step - loss: 2.4514 - accuracy: 0.4762\n",
            "Epoch 74/100\n",
            "1480/1480 [==============================] - 12s 8ms/step - loss: 2.4339 - accuracy: 0.4777\n",
            "Epoch 75/100\n",
            "1480/1480 [==============================] - 11s 8ms/step - loss: 2.4168 - accuracy: 0.4810\n",
            "Epoch 76/100\n",
            "1480/1480 [==============================] - 12s 8ms/step - loss: 2.3979 - accuracy: 0.4844\n",
            "Epoch 77/100\n",
            "1480/1480 [==============================] - 11s 8ms/step - loss: 2.4277 - accuracy: 0.4780\n",
            "Epoch 78/100\n",
            "1480/1480 [==============================] - 11s 8ms/step - loss: 2.4106 - accuracy: 0.4825\n",
            "Epoch 79/100\n",
            "1480/1480 [==============================] - 11s 8ms/step - loss: 2.4077 - accuracy: 0.4864\n",
            "Epoch 80/100\n",
            "1480/1480 [==============================] - 12s 8ms/step - loss: 2.3906 - accuracy: 0.4858\n",
            "Epoch 81/100\n",
            "1480/1480 [==============================] - 11s 8ms/step - loss: 2.3770 - accuracy: 0.4856\n",
            "Epoch 82/100\n",
            "1480/1480 [==============================] - 11s 8ms/step - loss: 2.3624 - accuracy: 0.4946\n",
            "Epoch 83/100\n",
            "1480/1480 [==============================] - 11s 8ms/step - loss: 2.3633 - accuracy: 0.4900\n",
            "Epoch 84/100\n",
            "1480/1480 [==============================] - 11s 8ms/step - loss: 2.3507 - accuracy: 0.4942\n",
            "Epoch 85/100\n",
            "1480/1480 [==============================] - 11s 8ms/step - loss: 2.3608 - accuracy: 0.4921\n",
            "Epoch 86/100\n",
            "1480/1480 [==============================] - 12s 8ms/step - loss: 2.3465 - accuracy: 0.4975\n",
            "Epoch 87/100\n",
            "1480/1480 [==============================] - 12s 8ms/step - loss: 2.3352 - accuracy: 0.4952\n",
            "Epoch 88/100\n",
            "1480/1480 [==============================] - 12s 8ms/step - loss: 2.3038 - accuracy: 0.5025\n",
            "Epoch 89/100\n",
            "1480/1480 [==============================] - 11s 8ms/step - loss: 2.3127 - accuracy: 0.5014\n",
            "Epoch 90/100\n",
            "1480/1480 [==============================] - 11s 8ms/step - loss: 2.2993 - accuracy: 0.5072\n",
            "Epoch 91/100\n",
            "1480/1480 [==============================] - 11s 8ms/step - loss: 2.3124 - accuracy: 0.4992\n",
            "Epoch 92/100\n",
            "1480/1480 [==============================] - 11s 8ms/step - loss: 2.2790 - accuracy: 0.5075\n",
            "Epoch 93/100\n",
            "1480/1480 [==============================] - 11s 8ms/step - loss: 2.3082 - accuracy: 0.4987\n",
            "Epoch 94/100\n",
            "1480/1480 [==============================] - 11s 8ms/step - loss: 2.2719 - accuracy: 0.5085\n",
            "Epoch 95/100\n",
            "1480/1480 [==============================] - 11s 8ms/step - loss: 2.2906 - accuracy: 0.5064\n",
            "Epoch 96/100\n",
            "1480/1480 [==============================] - 11s 8ms/step - loss: 2.2744 - accuracy: 0.5067\n",
            "Epoch 97/100\n",
            "1480/1480 [==============================] - 11s 8ms/step - loss: 2.2630 - accuracy: 0.5115\n",
            "Epoch 98/100\n",
            "1480/1480 [==============================] - 11s 8ms/step - loss: 2.2374 - accuracy: 0.5174\n",
            "Epoch 99/100\n",
            "1480/1480 [==============================] - 11s 8ms/step - loss: 2.2577 - accuracy: 0.5119\n",
            "Epoch 100/100\n",
            "1480/1480 [==============================] - 11s 8ms/step - loss: 2.2672 - accuracy: 0.5127\n"
          ],
          "name": "stdout"
        }
      ]
    },
    {
      "cell_type": "markdown",
      "metadata": {
        "id": "MgvIz20nlQcq"
      },
      "source": [
        "### View the Training Graph"
      ]
    },
    {
      "cell_type": "code",
      "metadata": {
        "id": "rOqmmarvlSLh",
        "colab": {
          "base_uri": "https://localhost:8080/",
          "height": 279
        },
        "outputId": "1307f9ad-23cb-4ae0-907f-87ec30f25423"
      },
      "source": [
        "import matplotlib.pyplot as plt\n",
        " \n",
        "def plot_graphs(histori, string):\n",
        "  plt.plot(histori.history[string])\n",
        "  plt.xlabel(\"Epochs\")\n",
        "  plt.ylabel(string)\n",
        "  plt.show()\n",
        " \n",
        "plot_graphs(history, 'accuracy')"
      ],
      "execution_count": null,
      "outputs": [
        {
          "output_type": "display_data",
          "data": {
            "image/png": "[encoded data removed]",
            "text/plain": [
              "<Figure size 432x288 with 1 Axes>"
            ]
          },
          "metadata": {
            "tags": [],
            "needs_background": "light"
          }
        }
      ]
    },
    {
      "cell_type": "markdown",
      "metadata": {
        "id": "ISLZZGlQlSxh"
      },
      "source": [
        "### Generate better lyrics!\n",
        "\n",
        "This time around, we should be able to get a more interesting output with less repetition."
      ]
    },
    {
      "cell_type": "code",
      "metadata": {
        "id": "P96oVMk3lU7y",
        "colab": {
          "base_uri": "https://localhost:8080/"
        },
        "outputId": "8653b0c9-6239-4880-d11e-5ba757138b60"
      },
      "source": [
        "seed_text = \"im feeling chills\"\n",
        "next_words = 100\n",
        "  \n",
        "for _ in range(next_words):\n",
        "    tokenizer = Tokenizer()\n",
        "    token_list = tokenizer.texts_to_sequences([seed_text])[0]\n",
        "    token_list = pad_sequences([token_list], maxlen=max_sequence_len-1, padding='pre')\n",
        "    predicted = np.argmax(model.predict(token_list), axis=-1)\n",
        "    output_word = \"\"\n",
        "    for word, index in tokenizer.word_index.items():\n",
        "        if index == predicted:\n",
        "            output_word = word\n",
        "            break\n",
        "    seed_text += \" \" + output_word\n",
        "print(seed_text)"
      ],
      "execution_count": null,
      "outputs": [
        {
          "output_type": "stream",
          "text": [
            "im feeling chills                                                                                                    \n"
          ],
          "name": "stdout"
        }
      ]
    },
    {
      "cell_type": "markdown",
      "metadata": {
        "id": "upgJKV8_oRU9"
      },
      "source": [
        "### Varying the Possible Outputs\n",
        "\n",
        "In running the above, you may notice that the same seed text will generate similar outputs. This is because the code is currently always choosing the top predicted class as the next word. What if you wanted more variance in the output? \n",
        "\n",
        "Switching from `model.predict_classes` to `model.predict_proba` will get us all of the class probabilities. We can combine this with `np.random.choice` to select a given predicted output based on a probability, thereby giving a bit more randomness to our outputs."
      ]
    },
    {
      "cell_type": "code",
      "metadata": {
        "id": "lZe9gaJeoGVP",
        "colab": {
          "base_uri": "https://localhost:8080/"
        },
        "outputId": "cf4db19f-b1cc-4307-991d-90ef6da6e584"
      },
      "source": [
        "# Test the method with just the first word after the seed text\n",
        "seed_text = \"im feeling chills\"\n",
        "next_words = 100\n",
        "\n",
        "tokenizer = Tokenizer() \n",
        "token_list = tokenizer.texts_to_sequences([seed_text])[0]\n",
        "token_list = pad_sequences([token_list], maxlen=max_sequence_len-1, padding='pre')\n",
        "predicted_probs = model.predict(token_list)[0]\n",
        "predicted = np.random.choice([x for x in range(len(predicted_probs))], \n",
        "                             p=predicted_probs)\n",
        "# Running this cell multiple times should get you some variance in output\n",
        "print(predicted)"
      ],
      "execution_count": null,
      "outputs": [
        {
          "output_type": "stream",
          "text": [
            "92\n"
          ],
          "name": "stdout"
        }
      ]
    },
    {
      "cell_type": "code",
      "metadata": {
        "id": "ee7WKgRGrJy1",
        "colab": {
          "base_uri": "https://localhost:8080/"
        },
        "outputId": "1d99ce33-e5d5-42a3-9ef0-b4b23072d55e"
      },
      "source": [
        "# Use this process for the full output generation\n",
        "seed_text = \"im feeling chills\"\n",
        "next_words = 100\n",
        "  \n",
        "for _ in range(next_words):\n",
        "  tokenizer = Tokenizer()\n",
        "  token_list = tokenizer.texts_to_sequences([seed_text])[0]\n",
        "  token_list = pad_sequences([token_list], maxlen=max_sequence_len-1, padding='pre')\n",
        "  predicted_probs = model.predict(token_list)[0]\n",
        "  predicted = np.random.choice([x for x in range(len(predicted_probs))],\n",
        "                               p=predicted_probs)\n",
        "  output_word = \"\"\n",
        "  for word, index in tokenizer.word_index.items():\n",
        "    if index == predicted:\n",
        "      output_word = word\n",
        "      break\n",
        "  seed_text += \" \" + output_word\n",
        "print(seed_text)"
      ],
      "execution_count": null,
      "outputs": [
        {
          "output_type": "stream",
          "text": [
            "im feeling chills                                                                                                    \n"
          ],
          "name": "stdout"
        }
      ]
    },
    {
      "cell_type": "code",
      "metadata": {
        "id": "eJ_GnBIO7FOF"
      },
      "source": [
        ""
      ],
      "execution_count": null,
      "outputs": []
    },
    {
      "cell_type": "code",
      "metadata": {
        "id": "5Qz8SG-174HM"
      },
      "source": [
        ""
      ],
      "execution_count": null,
      "outputs": []
    }
  ]
}